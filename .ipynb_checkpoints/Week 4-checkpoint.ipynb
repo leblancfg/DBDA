{
 "cells": [
  {
   "cell_type": "markdown",
   "metadata": {},
   "source": [
    "## Exercise 8.1\n",
    "***Purpose***: Run the high level scripts with other data to see how\n",
    "easy they are.\n",
    "\n",
    "Consider the high-level script, `Jags-Ydich-XnomSsubj-MbernBetaExample.R`. For this exercise, you will use that script with a new data file, and notice\n",
    "that you only need to change a single line, namely the one that loads the data file. In RStudio, open a new blank file by selecting the menu items\n",
    "\n",
    "    File → New → Text file\n",
    "    \n",
    "Manually type in new fictional data in the same format as the data shown in\n",
    "Section 8.4, p. 208, i.e.:\n",
    "\n",
    "    y,s\n",
    "    1,Reginald\n",
    "    0,Reginald\n",
    "    1,Reginald\n",
    "    1,Reginald\n",
    "    1,Reginald\n",
    "    1,Reginald\n",
    "    1,Reginald\n",
    "    0,Reginald\n",
    "    0,Tony\n",
    "    0,Tony\n",
    "    1,Tony\n",
    "    0,Tony\n",
    "    0,Tony\n",
    "    1,Tony\n",
    "    0,Tony\n",
    "\n",
    "but with three subjects instead of two. Use whatever names you\n",
    "fancy, and as many trials for each subject as you fancy. Perhaps put a preponderance of\n",
    "0’s for one subject and a preponderance of 1’s for another subject. Use a lot of trials\n",
    "of one subject, and relatively few trials for another. Save the file with a filename that\n",
    "ends with `.csv`. Then, in the script, use that file name in the `read.csv` command.\n",
    "\n",
    "In your report, include the data file and the graphical output of the analysis. Are the\n",
    "estimates reasonable? What is the effect of different sample sizes for the estimates of\n",
    "different subjects?\n",
    "\n",
    "### `"
   ]
  },
  {
   "cell_type": "code",
   "execution_count": null,
   "metadata": {},
   "outputs": [],
   "source": [
    "# Example for Jags-Ydich-XnomSsubj-Mbernbeta.R \n",
    "#------------------------------------------------------------------------------- \n",
    "# Optional generic preliminaries:\n",
    "graphics.off() # This closes all of R's graphics windows.\n",
    "rm(list=ls())  # Careful! This clears all of R's memory!\n",
    "#------------------------------------------------------------------------------- \n",
    "# Load The data \n",
    "myData = read.csv(\"z6N8z2N7.csv\")\n",
    "# N.B.: The functions below expect the data to be a data frame, \n",
    "# with one component named y being a vector of integer 0,1 values,\n",
    "# and one component named s being a factor of subject identifiers.\n",
    "#------------------------------------------------------------------------------- \n",
    "# Load the relevant model into R's working memory:\n",
    "source(\"Jags-Ydich-XnomSsubj-MbernBeta.R\")\n",
    "#------------------------------------------------------------------------------- \n",
    "# Optional: Specify filename root and graphical format for saving output.\n",
    "# Otherwise specify as NULL or leave saveName and saveType arguments \n",
    "# out of function calls.\n",
    "fileNameRoot = \"Jags-Ydich-XnomSsubj-MbernBeta-\" \n",
    "graphFileType = \"eps\" \n",
    "#------------------------------------------------------------------------------- \n",
    "# Generate the MCMC chain:\n",
    "mcmcCoda = genMCMC( data=myData , numSavedSteps=50000 , saveName=fileNameRoot )\n",
    "#------------------------------------------------------------------------------- \n",
    "# Display diagnostics of chain, for specified parameters:\n",
    "parameterNames = varnames(mcmcCoda) # get all parameter names\n",
    "for ( parName in parameterNames ) {\n",
    "  diagMCMC( codaObject=mcmcCoda , parName=parName , \n",
    "                saveName=fileNameRoot , saveType=graphFileType )\n",
    "}\n",
    "#------------------------------------------------------------------------------- \n",
    "# Get summary statistics of chain:\n",
    "summaryInfo = smryMCMC( mcmcCoda , compVal=NULL , #rope=c(0.45,0.55) ,\n",
    "                        compValDiff=0.0 , #ropeDiff = c(-0.05,0.05) ,\n",
    "                        saveName=fileNameRoot )\n",
    "# Display posterior information:\n",
    "plotMCMC( mcmcCoda , data=myData , compVal=NULL , #rope=c(0.45,0.55) ,\n",
    "          compValDiff=0.0 , #ropeDiff = c(-0.05,0.05) ,\n",
    "          saveName=fileNameRoot , saveType=graphFileType )\n",
    "#------------------------------------------------------------------------------- \n"
   ]
  },
  {
   "cell_type": "markdown",
   "metadata": {},
   "source": [
    "## Exercise 8.2\n",
    "*** Purpose***: Pay attention to the output of smryMCMC.] The graphical\n",
    "plots from plotMCMC are useful for understanding, but they lack some numerical\n",
    "details. Run the high-level script, Jags-Ydich-XnomSsubj-MbernBeta-Example.R, and\n",
    "explain the details in the output from smryMCMC. Explain what the rope and ropeDiff\n",
    "arguments do."
   ]
  },
  {
   "cell_type": "code",
   "execution_count": null,
   "metadata": {},
   "outputs": [],
   "source": []
  },
  {
   "cell_type": "markdown",
   "metadata": {},
   "source": [
    "## Exercise 8.3\n",
    "***Purpose***: Notice what gets saved by the high-level scripts.] Run\n",
    "the high-level script, Jags-Ydich-XnomSsubj-MbernBeta-Example.R, and notice what\n",
    "files are created (i.e., saved) in your computer’s working directory. Explain what these\n",
    "files are, and why they might be useful for future reference. Hint: In the file Jags-YdichXnomSsubj-MbernBeta.R, search for the word “save.”"
   ]
  },
  {
   "cell_type": "markdown",
   "metadata": {},
   "source": [
    "## Exercise 8.4\n",
    "***Purpose***: Explore the prior on a difference of parameters\n",
    "implied from the priors on the individual parameters.]\n",
    "(A) Reproduce Figure 8.7 in Section 8.5. Explain how you did it.\n",
    "(B) Change the priors on the individual θ’s to beta(θ|1, 1) and produce the figure\n",
    "anew. Describe its panels and explain.\n",
    "(C) Change the priors on the individual θ’s to beta(θ|0.5, 0.5) and produce the figure\n",
    "again. Describe its panels and explain."
   ]
  }
 ],
 "metadata": {
  "kernelspec": {
   "display_name": "R",
   "language": "R",
   "name": "ir"
  },
  "language_info": {
   "codemirror_mode": "r",
   "file_extension": ".r",
   "mimetype": "text/x-r-source",
   "name": "R",
   "pygments_lexer": "r",
   "version": "3.4.3"
  }
 },
 "nbformat": 4,
 "nbformat_minor": 2
}
