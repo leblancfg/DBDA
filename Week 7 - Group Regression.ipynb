{
 "cells": [
  {
   "cell_type": "markdown",
   "metadata": {},
   "source": [
    "## Exercise 16.1\n",
    "***Purpose***: Practice using different data files in the high-level\n",
    "script, with an interesting real example about alcohol preference of sexually\n",
    "frustrated males.\n",
    "Shohat-Ophir *et al*. (2012) were interested in alcohol preferences of\n",
    "sexually deprived males. The procedure is illustrated in Figure 16.13, and was described\n",
    "as follows:\n",
    "\n",
    ">One cohort, rejected-isolated, was subjected to courtship conditioning; they\n",
    "experienced 1-h sessions of sexual rejection by mated females, three times a day, for 4\n",
    "days.[…] Flies in the mated-grouped cohort experienced 6-h sessions of mating with multiple\n",
    "receptive virgin females (ratio 1:5) for 4 days. Flies from each cohort were then tested in\n",
    "a two-choice preference assay, in which they voluntarily choose to consume food with or\n",
    "without 15% ethanol supplementation. (Shohat-Ophir *et al*., 2012, p. 1351, citations and\n",
    "figure reference removed)\n",
    "\n",
    "![Figure 16.13](img/fig_16.13.png)\n",
    "\n",
    "For each fly, the amount of each type of food consumed was\n",
    "converted to a preference ratio: the amount of ethanol-supplemented food minus the amount\n",
    "of regular food divided by the total of both. I constructed 3-day summary preference scores\n",
    "for each individual fruit fly by summing the consumption of ethanol and non-ethanol across\n",
    "days 6–8. The amounts of food consumed and the preference ratios are in the data file\n",
    "named `ShohatOphirKAMH2012dataReduced.csv`. My thanks to Dr. Galit Shohat-Ophir\n",
    "for providing the data.\n",
    "\n",
    "### A\n",
    "Run `Jags-Ymet-Xnom2grp-MrobustHet-Example.R` on the preference scores.\n",
    "Make sure that the ROPE on the means and standard deviation is scaled appropriately to\n",
    "the data. How big are differences between groups relative to the uncertainty of the estimate?\n",
    "What do you conclude? (If this result interests you, then you will also be intrigued by the\n",
    "results in Section 19.3.2, p. 563.)"
   ]
  },
  {
   "cell_type": "code",
   "execution_count": null,
   "metadata": {},
   "outputs": [],
   "source": []
  },
  {
   "cell_type": "markdown",
   "metadata": {},
   "source": [
    "### B\n",
    "Instead of focusing on the relative amounts of ethanol and regular food consumed,\n",
    "we might also be interested in the absolute total amount of food consumed. Run the analysis\n",
    "on the total consumption data, which has column name GrandTotal in the data file. What\n",
    "do you conclude? In particular, would you want to make an argument to accept the null\n",
    "hypothesis of no difference? (Review Section 12.1.1, beginning on p. 336.)\n"
   ]
  },
  {
   "cell_type": "code",
   "execution_count": null,
   "metadata": {},
   "outputs": [],
   "source": []
  },
  {
   "cell_type": "markdown",
   "metadata": {},
   "source": [
    "## Exercise 16.2\n",
    "***Purpose***: More practice using different data files in the high-level\n",
    "script, using a real example, with skewed data.\n",
    "\n",
    "The typical lifespan of a laboratory\n",
    "rat that eats ad lib is approximately 700 days. When rats are placed on a restricted diet, their\n",
    "longevity can increase, but there is a lot of variability in lifespans across different individual\n",
    "rats. Restricting the diet might not only affect the typical lifespan, but restricting the diet\n",
    "might also affect the variance of the lifespan across rats. We consider data from R. L. Berger,\n",
    "Boos, and Guess (1988), as reported in Hand, Daly, Lunn, McConway, and Ostrowski (1994,\n",
    "data set #242), and which are available in the file named `RatLives.csv`.\n",
    "\n",
    "### A\n",
    "Run the two-group analysis on the rat longevity data. Use JAGS or Stan as you\n",
    "prefer (report which one you used). Report the code you used to read in the data file,\n",
    "specify the column names for the data, and the ROPEs appropriate to the scale of the\n",
    "data. Do the groups appear to differ in their central tendencies and variances? Does the\n",
    "value of the normality parameter suggest that the data have outliers relative to a normal\n",
    "distribution?\n"
   ]
  },
  {
   "cell_type": "code",
   "execution_count": null,
   "metadata": {},
   "outputs": [],
   "source": []
  },
  {
   "cell_type": "markdown",
   "metadata": {},
   "source": [
    "### B\n",
    "The data within each group appear to be skewed to the left. That is, within each\n",
    "group, there are many rats that died relatively young, but there are fewer outliers on the high\n",
    "end. We could try to implement a skewed noise distribution, or we could try to transform\n",
    "the data so they are approximately symmetric within each group. We will try the latter\n",
    "approach here. To get rid of leftward skew, we need a transformation that expands the\n",
    "rightward values. We will try squaring the data. Read in the data and append a transformed\n",
    "data column like this:\n",
    "\n",
    "    myDataFrame = read.csv( file=\"RatLives.csv\" )\n",
    "    myDataFrame = cbind( myDataFrame , DaysLiveSq = myDataFrame$ DaysLiveˆ2 )\n",
    "    yName=\"DaysLiveSq\"\n",
    "\n",
    "Change the specification of the ROPEs to be appropriate to the transformed data. Do the\n",
    "groups appear to differ in their central tendencies and variances on the days-squared scale? Does the value of the normality parameter suggest that the data have outliers relative to a\n",
    "normal distribution on the days-squared scale? Is the posterior effect size on the days-squared\n",
    "scale much different than the posterior effect size on the days scale from the previous part?"
   ]
  },
  {
   "cell_type": "code",
   "execution_count": null,
   "metadata": {},
   "outputs": [],
   "source": []
  },
  {
   "cell_type": "markdown",
   "metadata": {},
   "source": [
    "## Exercise 16.3\n",
    "***Purpose***: For two groups, examine the implied prior on the effect\n",
    "size and on the differences of means and scales.\n",
    "\n",
    "### A\n",
    "Modify the script `Stan-Ymet-Xnom2grp-MrobustHet-Example.R` and functions\n",
    "in `Stan-Ymet-Xnom2grp-MrobustHet.R` as needed to display the prior distribution. See\n",
    "Section 14.3.4, p. 412, for details. Explain what changes you made, and include the graphical\n",
    "output. Does Stan have convergence problems?\n"
   ]
  },
  {
   "cell_type": "code",
   "execution_count": null,
   "metadata": {},
   "outputs": [],
   "source": []
  },
  {
   "cell_type": "markdown",
   "metadata": {},
   "source": [
    "### B\n",
    "Modify the JAGS version of the program to sample from the prior. Refer to\n",
    "Section 8.5, p. 211, for a reminder of how to sample from the prior in JAGS.\n"
   ]
  },
  {
   "cell_type": "code",
   "execution_count": null,
   "metadata": {},
   "outputs": [],
   "source": []
  },
  {
   "cell_type": "markdown",
   "metadata": {},
   "source": [
    "### C\n",
    "From the previous two parts, is the prior on the effect size and differences suitably\n",
    "“noncommittal”? Briefly discuss."
   ]
  },
  {
   "cell_type": "code",
   "execution_count": null,
   "metadata": {},
   "outputs": [],
   "source": []
  }
 ],
 "metadata": {
  "kernelspec": {
   "display_name": "R",
   "language": "R",
   "name": "ir"
  },
  "language_info": {
   "codemirror_mode": "r",
   "file_extension": ".r",
   "mimetype": "text/x-r-source",
   "name": "R",
   "pygments_lexer": "r",
   "version": "3.4.3"
  }
 },
 "nbformat": 4,
 "nbformat_minor": 2
}
