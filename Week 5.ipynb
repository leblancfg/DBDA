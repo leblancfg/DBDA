{
 "cells": [
  {
   "cell_type": "markdown",
   "metadata": {},
   "source": [
    "## Exercise 9.1\n",
    "***Purpose***: Try different priors on $\\kappa$ to explore the role of $\\kappa$ in shrinkage.\n",
    "\n",
    "Consider the analysis of the therapeutic touch data in Figure 9.10,\n",
    "p. 243.\n",
    "\n",
    "![Figure 9.10](img/fig_9.10.png)\n",
    "\n",
    "The analysis used a generic gamma distributed prior on $\\kappa$ that had a mean of 1.0\n",
    "and a standard deviation of 10.0. We assumed that the prior had minimal influence on the results; here, we examine the robustness of the posterior when we change\n",
    "the prior to other reasonably vague and noncommittal distributions. In particular, we\n",
    "will examine a gamma distributed prior on $\\kappa$ that had a mode of 1.0 and a standard\n",
    "deviation of 10.0."
   ]
  },
  {
   "cell_type": "markdown",
   "metadata": {},
   "source": [
    "### 9.1 A\n",
    "What are the shape and rate parameters for a gamma distribution that has mean of 1.0 and standard deviation of 10.0? What are the shape and rate parameters for a gamma distribution that has mode of 1.0 and standard deviation of 10.0? Hint: use the\n",
    "utility functions `gammaShRaFromMeanSD` and `gammaShRaFromModeSD`.\n"
   ]
  },
  {
   "cell_type": "markdown",
   "metadata": {},
   "source": [
    "### 9.1 B\n",
    "Plot the two gamma distributions, superimposed, to see which values of $\\kappa$ they\n",
    "emphasize. If you like, make the graphs with this R code:\n",
    "\n",
    "    openGraph(height=7,width=7)\n",
    "    layout(matrix(1:3,ncol=1))\n",
    "    k=seq(0,200,length=10001)\n",
    "    plot( k , dgamma(k,1.105125,0.105125) , ylab=\"dgamma(k)\" ,\n",
    "    type=\"l\" , main=\"Gamma Distrib’s (SD=10)\" )\n",
    "    lines( k , dgamma(k,0.01,0.01) , col=\"skyblue\" )\n",
    "    legend( \"topright\" , c(\"Mode 1\",\"Mean 1\") ,\n",
    "    lty=c(1,1) , col=c(\"black\",\"skyblue\") , text.col=c(\"black\", \"skyblue\") )\n",
    "    plot( k , dgamma(k,1.105125,0.105125) , ylab=\"dgamma(k)\" ,\n",
    "    type=\"l\" , ylim=c(.07,.08) , main=\"Gamma Distrib’s (SD=10), zoomed in\" )\n",
    "    lines( k , dgamma(k,0.01,0.01) , col=\"skyblue\" )\n",
    "    legend( \"topright\" , c(\"Mode 1\",\"Mean 1\") ,\n",
    "    lty=c(1,1) , col=c(\"black\",\"skyblue\") , text.col=c(\"black\", \"skyblue\") )\n",
    "    plot( k , dgamma(k,1.105125,0.105125) , ylab=\"dgamma(k)\" ,\n",
    "    type=\"l\" , ylim=c(0,8.0e-5) , main=\"Gamma Distrib’s (SD=10), zoomed in\" )\n",
    "    lines( k , dgamma(k,0.01,0.01) , col=\"skyblue\" )\n",
    "    legend( \"topright\" , c(\"Mode 1\",\"Mean 1\") ,\n",
    "    lty=c(1,1) , col=c(\"black\",\"skyblue\") , text.col=c(\"black\", \"skyblue\") )\n",
    "\n",
    "The result is shown in Figure 9.18. Relative to each other, which gamma distribution\n",
    "favors values of $\\kappa$ between about 0.1 and 75? Which gamma distribution favors values\n",
    "of $\\kappa$ that are tiny or greater than 75?\n",
    "\n",
    "![Figure 9.18](img/fig_9.18.png)"
   ]
  },
  {
   "cell_type": "markdown",
   "metadata": {},
   "source": [
    "### 9.1 C\n",
    "In the program `Jags-Ydich-XnomSsubj-MbinomBetaOmegaKappa.R`, find the\n",
    "line in the model specification for the prior on `kappaMinusTwo`. Run the program\n",
    "once using a gamma with mean of 1.0, and run the program a second time\n",
    "using a gamma with a mode of 1.0. Show the graphs of the posterior distribution.\n",
    "Hints: in the model specification, just comment out one or the other of the\n",
    "lines:\n",
    "\n",
    "    #kappaMinusTwo ˜ dgamma( 0.01 , 0.01 ) # mean=1 , sd=10 (generic vague)\n",
    "    kappaMinusTwo ˜ dgamma( 1.105125 , 0.1051249 ) # mode=1 , sd=10\n",
    "\n",
    "Be sure to save the program before calling it from the script! In the script, you might\n",
    "want to change the file name root that is used for saved graph files."
   ]
  },
  {
   "cell_type": "markdown",
   "metadata": {},
   "source": [
    "### 9.1 D\n",
    "Does the posterior distribution change much when the prior is changed? In\n",
    "particular, for which prior does the marginal posterior distribution on $\\kappa$ have a bigger\n",
    "large-value tail? When $\\kappa$ is larger, what effect does that have on shrinkage of the $\\theta$s\n",
    "values?"
   ]
  },
  {
   "cell_type": "markdown",
   "metadata": {},
   "source": [
    "### 9.1 E\n",
    "Which prior do you think is more appropriate? To properly answer this question,\n",
    "you should do the next exercise!\n",
    "\n",
    "***(Thanks, John :| )***"
   ]
  },
  {
   "cell_type": "markdown",
   "metadata": {},
   "source": [
    "## Exercise 9.2\n",
    "***Purpose***: Examine the prior on $\\theta$s implied by the prior constants at higher levels.\n",
    "\n",
    "To sample from the prior in JAGS, we just comment out the data, as was explained in Section 8.5. In the program `Jags-Ydich-XnomSsubj-MbinomBetaOmegaKappa.R`, just comment out the line that specifies `z`, like this:\n",
    "\n",
    "    dataList = list(\n",
    "    # z = z ,\n",
    "    N = N ,\n",
    "    Nsubj = Nsubj\n",
    "    )\n",
    "\n",
    "Save the program, and run it with the two priors on $\\kappa$ discussed in the previous exercise.\n",
    "You may want to change the file name root for the saved graphics files. For both priors,\n",
    "include the graphs of the prior distributions on θs and the differences of $\\theta$s’s such as\n",
    "`theta[1]-theta[28]`. See Figure 9.19.\n",
    "\n",
    "![Figure 9.19](img/fig_9.19.png)\n",
    "\n",
    "### A\n",
    "Explain why the implied prior distribution on individual $\\theta$s has rounded shoulders (instead of being essentially uniform) when  using a prior on $\\kappa$ that has a mode of 1 (instead of a mean of 1).\n",
    "\n",
    "### B\n",
    "Which prior do you think is more appropriate?"
   ]
  },
  {
   "cell_type": "code",
   "execution_count": null,
   "metadata": {},
   "outputs": [],
   "source": []
  },
  {
   "cell_type": "markdown",
   "metadata": {},
   "source": [
    "## Exercise 9.3\n",
    "***Purpose***: Compare Bayesian shrinkage with MLE shrinkage.\n",
    "\n",
    "Construct a data set like the data in Figure 9.12 and do a Bayesian analysis like that done for the therapeutic touch data.\n",
    "\n",
    "![Figure 9.12](img/fig_9.12.png)\n",
    "\n",
    "Compare the Bayesian parameter estimates with the MLE estimates (gleaned from Figure 9.12). What does the Bayesian analysis provide that is not provided by the MLE?"
   ]
  },
  {
   "cell_type": "code",
   "execution_count": null,
   "metadata": {},
   "outputs": [],
   "source": []
  }
 ],
 "metadata": {
  "kernelspec": {
   "display_name": "R",
   "language": "R",
   "name": "ir"
  },
  "language_info": {
   "codemirror_mode": "r",
   "file_extension": ".r",
   "mimetype": "text/x-r-source",
   "name": "R",
   "pygments_lexer": "r",
   "version": "3.4.3"
  }
 },
 "nbformat": 4,
 "nbformat_minor": 2
}
